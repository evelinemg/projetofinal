{
 "cells": [
  {
   "cell_type": "code",
   "execution_count": null,
   "id": "eafab56e-eb05-4442-90af-d1ddbdc306ce",
   "metadata": {},
   "outputs": [],
   "source": [
    "read.json(\"path\")"
   ]
  },
  {
   "cell_type": "code",
   "execution_count": 1,
   "id": "cdb4f413-8cdd-41fa-9f22-460f3f95e07e",
   "metadata": {},
   "outputs": [],
   "source": [
    "from pyspark import SparkConf, SparkContext\n",
    "from pyspark.sql import SparkSession\n",
    "from pyspark import SparkConf\n",
    "import pyspark.sql.functions as F\n",
    "from pyspark.sql.types import *\n",
    "from pyspark.sql.functions import *\n",
    "from pyspark.sql import Window\n",
    "import os\n",
    "\n",
    "from google.cloud import storage\n",
    "os.environ[\"GOOGLE_APPLICATION_CREDENTIALS\"]=\"sca-at-b5179177a346.json\"\n",
    "\n",
    "spark = (SparkSession.builder\n",
    "        .master(\"local\")\n",
    "        .appName(\"projetosoulcode\") \n",
    "        .getOrCreate())\n",
    "\n"
   ]
  },
  {
   "cell_type": "code",
   "execution_count": 21,
   "id": "02a91cf3-6bec-433b-b081-5172c640e004",
   "metadata": {},
   "outputs": [],
   "source": [
    "schema = StructType(\n",
    "   [StructField('concessionaria', StringType(), True),\n",
    "    StructField('ano_do_pnv_snv', StringType(), True),\n",
    "    StructField('tipo_de_rodovia', StringType(), True),\n",
    "    StructField('rodovia', StringType(), True),\n",
    "    StructField('uf', StringType(), True),\n",
    "    StructField('km_m_inicial', StringType(), True),\n",
    "    StructField('km_m_final', StringType(), True),\n",
    "    StructField('direcao', StringType(), True),\n",
    "    StructField('sentido', StringType(), True),\n",
    "   ]\n",
    "  )"
   ]
  },
  {
   "cell_type": "code",
   "execution_count": 13,
   "id": "43a3f657-e680-47db-8439-068d054ceb19",
   "metadata": {},
   "outputs": [
    {
     "name": "stdout",
     "output_type": "stream",
     "text": [
      "root\n",
      " |-- concessionaria: string (nullable = true)\n",
      " |-- ano_do_pnv_snv: string (nullable = true)\n",
      " |-- tipo_de_rodovia: string (nullable = true)\n",
      " |-- rodovia: string (nullable = true)\n",
      " |-- uf: string (nullable = true)\n",
      " |-- km_m_inicial: string (nullable = true)\n",
      " |-- km_m_final: string (nullable = true)\n",
      " |-- direcao: string (nullable = true)\n",
      " |-- sentido: string (nullable = true)\n",
      "\n",
      "+--------------------+--------------+---------------+--------+---+------------+----------+-------+-----------+\n",
      "|      concessionaria|ano_do_pnv_snv|tipo_de_rodovia| rodovia| uf|km_m_inicial|km_m_final|direcao|    sentido|\n",
      "+--------------------+--------------+---------------+--------+---+------------+----------+-------+-----------+\n",
      "|AUTOPISTA FERNÃO ...|          2007|         Outros|Contorno| MG|       0,000|     7,400|    Sul|  Crescente|\n",
      "|AUTOPISTA FERNÃO ...|          2007|         Outros|Contorno| MG|       7,400|     0,000|  Norte|Decrescente|\n",
      "|AUTOPISTA FERNÃO ...|          2007|         Outros|  Alça 1| SP|      68,150|    67,500|  Norte|Decrescente|\n",
      "|AUTOPISTA FLUMINENSE|          2019|        Federal|  BR-101| RJ|       0,000|   322,100|    Sul|  Crescente|\n",
      "|AUTOPISTA FLUMINENSE|          2019|        Federal|  BR-101| RJ|     322,100|     0,000|  Norte|Decrescente|\n",
      "|AUTOPISTA LITORAL...|          2009|        Federal|  BR-116| PR|      71,100|   115,200|  Oeste|  Crescente|\n",
      "|AUTOPISTA LITORAL...|          2009|        Federal|  BR-116| PR|      71,100|   115,200|  Leste|Decrescente|\n",
      "|AUTOPISTA LITORAL...|          2009|        Federal|  BR-101| SC|       0,000|   244,680|    Sul|  Crescente|\n",
      "|AUTOPISTA LITORAL...|          2009|        Federal|  BR-101| SC|       0,000|   244,680|  Norte|Decrescente|\n",
      "|AUTOPISTA PLANALT...|          2017|        Federal|  BR-116| PR|     115,000|   211,800|    Sul|  Crescente|\n",
      "|AUTOPISTA PLANALT...|          2017|        Federal|  BR-116| PR|     211,800|   115,000|  Norte|Decrescente|\n",
      "|AUTOPISTA PLANALT...|          2017|        Federal|  BR-116| SC|       0,000|   310,240|    Sul|  Crescente|\n",
      "|AUTOPISTA PLANALT...|          2017|        Federal|  BR-116| SC|     310,240|     0,000|  Norte|Decrescente|\n",
      "|AUTOPISTA REGIS B...|          2017|        Federal|  BR-116| PR|       0,000|    71,100|    Sul|  Crescente|\n",
      "|AUTOPISTA REGIS B...|          2017|        Federal|  BR-116| PR|      71,100|     0,000|  Norte|Decrescente|\n",
      "|AUTOPISTA REGIS B...|          2017|        Federal|  BR-116| SP|     268,900|   569,100|    Sul|  Crescente|\n",
      "|AUTOPISTA REGIS B...|          2017|        Federal|  BR-116| SP|     569,100|   268,900|  Norte|Decrescente|\n",
      "|AUTOPISTA REGIS B...|          2017|         Outros|  CW-116| PR|       0,000|    18,500|    Sul|  Crescente|\n",
      "|AUTOPISTA REGIS B...|          2017|         Outros|  CW-116| PR|      18,500|     0,000|  Norte|Decrescente|\n",
      "| CATARINENSE HOLDING|          2020|        Federal|  BR-101| SC|     245,000|   464,285|    Sul|  Crescente|\n",
      "+--------------------+--------------+---------------+--------+---+------------+----------+-------+-----------+\n",
      "only showing top 20 rows\n",
      "\n"
     ]
    }
   ],
   "source": [
    "df = spark.read.option(\"delimiter\", \";\").option(\"encoding\", \"ISO-8859-1\").csv(\"dados_dos_trechos_concedidos (3).csv\", header=True)\n",
    "df.printSchema()\n",
    "df.show()"
   ]
  },
  {
   "cell_type": "code",
   "execution_count": 14,
   "id": "13a84e6c-5125-43d1-90ad-6af44c2f7c91",
   "metadata": {},
   "outputs": [],
   "source": [
    "df = df.withColumn('km_m_inicial', regexp_replace('km_m_inicial', ',', '.').cast('float'))\n",
    "df = df.withColumn('km_m_final', regexp_replace('km_m_final', ',', '.').cast('float'))"
   ]
  },
  {
   "cell_type": "code",
   "execution_count": 15,
   "id": "04875c49-dcf4-413a-83b0-ec3329b9efa0",
   "metadata": {},
   "outputs": [],
   "source": [
    "df=df.filter(df.tipo_de_rodovia==\"Federal\")"
   ]
  },
  {
   "cell_type": "code",
   "execution_count": 16,
   "id": "dbd83093-ddb8-4890-88d5-7f3284832589",
   "metadata": {},
   "outputs": [
    {
     "data": {
      "text/plain": [
       "72"
      ]
     },
     "execution_count": 16,
     "metadata": {},
     "output_type": "execute_result"
    }
   ],
   "source": [
    "df.count()"
   ]
  },
  {
   "cell_type": "code",
   "execution_count": 17,
   "id": "dd2e7f49-ebea-460c-8df0-a1e4841b8c74",
   "metadata": {},
   "outputs": [
    {
     "name": "stdout",
     "output_type": "stream",
     "text": [
      "+--------------------+--------------+---------------+-------+---+------------+----------+-------+-----------+\n",
      "|      concessionaria|ano_do_pnv_snv|tipo_de_rodovia|rodovia| uf|km_m_inicial|km_m_final|direcao|    sentido|\n",
      "+--------------------+--------------+---------------+-------+---+------------+----------+-------+-----------+\n",
      "|AUTOPISTA FLUMINENSE|          2019|        Federal| BR-101| RJ|         0.0|     322.1|    Sul|  Crescente|\n",
      "|AUTOPISTA FLUMINENSE|          2019|        Federal| BR-101| RJ|       322.1|       0.0|  Norte|Decrescente|\n",
      "|AUTOPISTA LITORAL...|          2009|        Federal| BR-116| PR|        71.1|     115.2|  Oeste|  Crescente|\n",
      "|AUTOPISTA LITORAL...|          2009|        Federal| BR-116| PR|        71.1|     115.2|  Leste|Decrescente|\n",
      "|AUTOPISTA LITORAL...|          2009|        Federal| BR-101| SC|         0.0|    244.68|    Sul|  Crescente|\n",
      "|AUTOPISTA LITORAL...|          2009|        Federal| BR-101| SC|         0.0|    244.68|  Norte|Decrescente|\n",
      "|AUTOPISTA PLANALT...|          2017|        Federal| BR-116| PR|       115.0|     211.8|    Sul|  Crescente|\n",
      "|AUTOPISTA PLANALT...|          2017|        Federal| BR-116| PR|       211.8|     115.0|  Norte|Decrescente|\n",
      "|AUTOPISTA PLANALT...|          2017|        Federal| BR-116| SC|         0.0|    310.24|    Sul|  Crescente|\n",
      "|AUTOPISTA PLANALT...|          2017|        Federal| BR-116| SC|      310.24|       0.0|  Norte|Decrescente|\n",
      "|AUTOPISTA REGIS B...|          2017|        Federal| BR-116| PR|         0.0|      71.1|    Sul|  Crescente|\n",
      "|AUTOPISTA REGIS B...|          2017|        Federal| BR-116| PR|        71.1|       0.0|  Norte|Decrescente|\n",
      "|AUTOPISTA REGIS B...|          2017|        Federal| BR-116| SP|       268.9|     569.1|    Sul|  Crescente|\n",
      "|AUTOPISTA REGIS B...|          2017|        Federal| BR-116| SP|       569.1|     268.9|  Norte|Decrescente|\n",
      "| CATARINENSE HOLDING|          2020|        Federal| BR-101| SC|       245.0|   464.285|    Sul|  Crescente|\n",
      "| CATARINENSE HOLDING|          2020|        Federal| BR-101| SC|     464.285|     245.0|  Norte|Decrescente|\n",
      "|            CONCEBRA|          2017|        Federal|  BR-60| DF|         0.0|      31.9|    Sul|  Crescente|\n",
      "|            CONCEBRA|          2017|        Federal|  BR-60| DF|         0.0|      31.9|  Norte|Decrescente|\n",
      "|            CONCEBRA|          2017|        Federal|  BR-60| GO|         0.0|     139.0|    Sul|  Crescente|\n",
      "|            CONCEBRA|          2017|        Federal|  BR-60| GO|         0.0|     139.0|  Norte|Decrescente|\n",
      "+--------------------+--------------+---------------+-------+---+------------+----------+-------+-----------+\n",
      "only showing top 20 rows\n",
      "\n"
     ]
    }
   ],
   "source": [
    "df.show()"
   ]
  },
  {
   "cell_type": "code",
   "execution_count": 20,
   "id": "1346ae0b-9eaf-4d97-bb13-c196cfcc9640",
   "metadata": {},
   "outputs": [],
   "source": [
    "df = df.withColumn('rodovia', regexp_replace('rodovia', 'BR-', ' '))"
   ]
  },
  {
   "cell_type": "code",
   "execution_count": 22,
   "id": "6114c4ec-6056-4d6e-a441-73c66b2bda33",
   "metadata": {},
   "outputs": [
    {
     "name": "stdout",
     "output_type": "stream",
     "text": [
      "+--------------------+--------------+---------------+-------+---+------------+----------+-------+-----------+\n",
      "|      concessionaria|ano_do_pnv_snv|tipo_de_rodovia|rodovia| uf|km_m_inicial|km_m_final|direcao|    sentido|\n",
      "+--------------------+--------------+---------------+-------+---+------------+----------+-------+-----------+\n",
      "|AUTOPISTA FLUMINENSE|          2019|        Federal|    101| RJ|         0.0|     322.1|    Sul|  Crescente|\n",
      "|AUTOPISTA FLUMINENSE|          2019|        Federal|    101| RJ|       322.1|       0.0|  Norte|Decrescente|\n",
      "|AUTOPISTA LITORAL...|          2009|        Federal|    116| PR|        71.1|     115.2|  Oeste|  Crescente|\n",
      "|AUTOPISTA LITORAL...|          2009|        Federal|    116| PR|        71.1|     115.2|  Leste|Decrescente|\n",
      "|AUTOPISTA LITORAL...|          2009|        Federal|    101| SC|         0.0|    244.68|    Sul|  Crescente|\n",
      "|AUTOPISTA LITORAL...|          2009|        Federal|    101| SC|         0.0|    244.68|  Norte|Decrescente|\n",
      "|AUTOPISTA PLANALT...|          2017|        Federal|    116| PR|       115.0|     211.8|    Sul|  Crescente|\n",
      "|AUTOPISTA PLANALT...|          2017|        Federal|    116| PR|       211.8|     115.0|  Norte|Decrescente|\n",
      "|AUTOPISTA PLANALT...|          2017|        Federal|    116| SC|         0.0|    310.24|    Sul|  Crescente|\n",
      "|AUTOPISTA PLANALT...|          2017|        Federal|    116| SC|      310.24|       0.0|  Norte|Decrescente|\n",
      "|AUTOPISTA REGIS B...|          2017|        Federal|    116| PR|         0.0|      71.1|    Sul|  Crescente|\n",
      "|AUTOPISTA REGIS B...|          2017|        Federal|    116| PR|        71.1|       0.0|  Norte|Decrescente|\n",
      "|AUTOPISTA REGIS B...|          2017|        Federal|    116| SP|       268.9|     569.1|    Sul|  Crescente|\n",
      "|AUTOPISTA REGIS B...|          2017|        Federal|    116| SP|       569.1|     268.9|  Norte|Decrescente|\n",
      "| CATARINENSE HOLDING|          2020|        Federal|    101| SC|       245.0|   464.285|    Sul|  Crescente|\n",
      "| CATARINENSE HOLDING|          2020|        Federal|    101| SC|     464.285|     245.0|  Norte|Decrescente|\n",
      "|            CONCEBRA|          2017|        Federal|     60| DF|         0.0|      31.9|    Sul|  Crescente|\n",
      "|            CONCEBRA|          2017|        Federal|     60| DF|         0.0|      31.9|  Norte|Decrescente|\n",
      "|            CONCEBRA|          2017|        Federal|     60| GO|         0.0|     139.0|    Sul|  Crescente|\n",
      "|            CONCEBRA|          2017|        Federal|     60| GO|         0.0|     139.0|  Norte|Decrescente|\n",
      "+--------------------+--------------+---------------+-------+---+------------+----------+-------+-----------+\n",
      "only showing top 20 rows\n",
      "\n"
     ]
    }
   ],
   "source": [
    "df.show()"
   ]
  },
  {
   "cell_type": "code",
   "execution_count": 24,
   "id": "c8b4f864-b942-488a-ab7e-9169121cd90b",
   "metadata": {},
   "outputs": [],
   "source": [
    "df=df.withColumnRenamed('rodovia', 'br')"
   ]
  },
  {
   "cell_type": "code",
   "execution_count": 26,
   "id": "d4846e19-a290-43f5-884d-3b3b9ca90b50",
   "metadata": {},
   "outputs": [
    {
     "name": "stdout",
     "output_type": "stream",
     "text": [
      "+--------------------+--------------+---------------+----+---+------------+----------+-------+-----------+\n",
      "|      concessionaria|ano_do_pnv_snv|tipo_de_rodovia|  br| uf|km_m_inicial|km_m_final|direcao|    sentido|\n",
      "+--------------------+--------------+---------------+----+---+------------+----------+-------+-----------+\n",
      "|AUTOPISTA FLUMINENSE|          2019|        Federal| 101| RJ|         0.0|     322.1|    Sul|  Crescente|\n",
      "|AUTOPISTA FLUMINENSE|          2019|        Federal| 101| RJ|       322.1|       0.0|  Norte|Decrescente|\n",
      "|AUTOPISTA LITORAL...|          2009|        Federal| 116| PR|        71.1|     115.2|  Oeste|  Crescente|\n",
      "|AUTOPISTA LITORAL...|          2009|        Federal| 116| PR|        71.1|     115.2|  Leste|Decrescente|\n",
      "|AUTOPISTA LITORAL...|          2009|        Federal| 101| SC|         0.0|    244.68|    Sul|  Crescente|\n",
      "|AUTOPISTA LITORAL...|          2009|        Federal| 101| SC|         0.0|    244.68|  Norte|Decrescente|\n",
      "|AUTOPISTA PLANALT...|          2017|        Federal| 116| PR|       115.0|     211.8|    Sul|  Crescente|\n",
      "|AUTOPISTA PLANALT...|          2017|        Federal| 116| PR|       211.8|     115.0|  Norte|Decrescente|\n",
      "|AUTOPISTA PLANALT...|          2017|        Federal| 116| SC|         0.0|    310.24|    Sul|  Crescente|\n",
      "|AUTOPISTA PLANALT...|          2017|        Federal| 116| SC|      310.24|       0.0|  Norte|Decrescente|\n",
      "|AUTOPISTA REGIS B...|          2017|        Federal| 116| PR|         0.0|      71.1|    Sul|  Crescente|\n",
      "|AUTOPISTA REGIS B...|          2017|        Federal| 116| PR|        71.1|       0.0|  Norte|Decrescente|\n",
      "|AUTOPISTA REGIS B...|          2017|        Federal| 116| SP|       268.9|     569.1|    Sul|  Crescente|\n",
      "|AUTOPISTA REGIS B...|          2017|        Federal| 116| SP|       569.1|     268.9|  Norte|Decrescente|\n",
      "| CATARINENSE HOLDING|          2020|        Federal| 101| SC|       245.0|   464.285|    Sul|  Crescente|\n",
      "| CATARINENSE HOLDING|          2020|        Federal| 101| SC|     464.285|     245.0|  Norte|Decrescente|\n",
      "|            CONCEBRA|          2017|        Federal|  60| DF|         0.0|      31.9|    Sul|  Crescente|\n",
      "|            CONCEBRA|          2017|        Federal|  60| DF|         0.0|      31.9|  Norte|Decrescente|\n",
      "|            CONCEBRA|          2017|        Federal|  60| GO|         0.0|     139.0|    Sul|  Crescente|\n",
      "|            CONCEBRA|          2017|        Federal|  60| GO|         0.0|     139.0|  Norte|Decrescente|\n",
      "|              CONCER|          2016|        Federal|  40| MG|       773.5|     828.7|    Sul|  Crescente|\n",
      "|              CONCER|          2016|        Federal|  40| MG|       828.7|     773.5|  Norte|Decrescente|\n",
      "|              CONCER|          2016|        Federal|  40| RJ|         0.0|     125.2|    Sul|  Crescente|\n",
      "|              CONCER|          2016|        Federal|  40| RJ|       125.2|       0.0|  Norte|Decrescente|\n",
      "|CONCESSIONARIA EC...|          2021|        Federal|  80| GO|        94.3|    181.05|  Norte|  Crescente|\n",
      "|CONCESSIONARIA EC...|          2021|        Federal|  80| GO|        94.3|    181.05|    Sul|Decrescente|\n",
      "|                 CRO|          2016|        Federal|  70| MT|       495.9|     524.0|  Norte|  Crescente|\n",
      "|                 CRO|          2016|        Federal|  70| MT|       524.0|     495.9|    Sul|Decrescente|\n",
      "|                 CRT|          2017|        Federal| 116| RJ|         1.7|       2.1|    Sul|  Crescente|\n",
      "|                 CRT|          2017|        Federal| 116| RJ|         2.1|       1.7|  Norte|Decrescente|\n",
      "|                 CRT|          2017|        Federal| 116| RJ|       2.101|     144.6|    Sul|  Crescente|\n",
      "|                 CRT|          2017|        Federal| 116| RJ|       144.6|     2.101|  Norte|Decrescente|\n",
      "|              ECO050|          2017|        Federal|  50| GO|        95.7|     314.2|    Sul|  Crescente|\n",
      "|              ECO050|          2017|        Federal|  50| GO|        95.7|     314.2|  Norte|Decrescente|\n",
      "|              ECO050|          2017|        Federal|  50| MG|         0.0|      65.7|    Sul|  Crescente|\n",
      "|              ECO050|          2017|        Federal|  50| MG|         0.0|      65.7|  Norte|Decrescente|\n",
      "|              ECO050|          2017|        Federal|  50| MG|        77.3|     207.3|    Sul|  Crescente|\n",
      "|              ECO050|          2017|        Federal|  50| MG|        77.3|     207.3|  Norte|Decrescente|\n",
      "|ECO101 CONCESSION...|          2020|        Federal| 101| BA|     939.494|     956.9|    Sul|  Crescente|\n",
      "|ECO101 CONCESSION...|          2020|        Federal| 101| BA|     939.494|     956.9|  Norte|Decrescente|\n",
      "|ECO101 CONCESSION...|          2020|        Federal| 101| ES|         0.0|     260.2|    Sul|  Crescente|\n",
      "|ECO101 CONCESSION...|          2020|        Federal| 101| ES|         0.0|     260.2|  Norte|Decrescente|\n",
      "|ECO101 CONCESSION...|          2020|        Federal| 101| ES|     260.201|   261.723|    Sul|  Crescente|\n",
      "|ECO101 CONCESSION...|          2020|        Federal| 101| ES|     260.201|   261.723|  Norte|Decrescente|\n",
      "|ECO101 CONCESSION...|          2020|        Federal| 101| ES|     261.724|     271.3|    Sul|  Crescente|\n",
      "|ECO101 CONCESSION...|          2020|        Federal| 101| ES|     261.724|     271.3|  Norte|Decrescente|\n",
      "|ECO101 CONCESSION...|          2020|        Federal| 101| ES|     291.601|   461.054|    Sul|  Crescente|\n",
      "|ECO101 CONCESSION...|          2020|        Federal| 101| ES|     291.601|   461.054|  Norte|Decrescente|\n",
      "|ECO101 CONCESSION...|          2020|        Federal| 101| ES|     271.301|     291.6|    Sul|  Crescente|\n",
      "|ECO101 CONCESSION...|          2020|        Federal| 101| ES|     271.301|     291.6|  Norte|Decrescente|\n",
      "|            ECOPONTE|          2017|        Federal| 101| RJ|     322.067|   333.623|    Sul|  Crescente|\n",
      "|            ECOPONTE|          2017|        Federal| 101| RJ|     333.623|   322.067|  Norte|Decrescente|\n",
      "|            ECOPONTE|          2017|        Federal| 101| RJ|     317.176|     321.6|    Sul|  Crescente|\n",
      "|            ECOPONTE|          2017|        Federal| 101| RJ|     335.397|   333.939|  Norte|Decrescente|\n",
      "|              ECOSUL|          1996|        Federal| 116| RS|       400.5|     661.0|    Sul|  Crescente|\n",
      "|              ECOSUL|          1996|        Federal| 116| RS|       661.0|     400.5|  Norte|Decrescente|\n",
      "|           NOVADUTRA|          1999|        Federal| 116| RJ|       163.0|     333.6|    Sul|  Crescente|\n",
      "|           NOVADUTRA|          1999|        Federal| 116| RJ|       333.6|     163.0|  Norte|Decrescente|\n",
      "|           NOVADUTRA|          1999|        Federal| 116| SP|         0.0|     231.6|    Sul|  Crescente|\n",
      "|           NOVADUTRA|          1999|        Federal| 116| SP|       231.6|       0.0|  Norte|Decrescente|\n",
      "|             VIA 040|          2010|        Federal|  40| DF|         0.0|       8.4|    Sul|  Crescente|\n",
      "|             VIA 040|          2010|        Federal|  40| DF|         8.4|       0.0|  Norte|Decrescente|\n",
      "|             VIA 040|          2010|        Federal|  40| GO|         0.0|     157.3|    Sul|  Crescente|\n",
      "|             VIA 040|          2010|        Federal|  40| GO|       157.3|       0.0|  Norte|Decrescente|\n",
      "|             VIA 040|          2010|        Federal|  40| MG|         0.0|     773.5|    Sul|  Crescente|\n",
      "|             VIA 040|          2010|        Federal|  40| MG|       773.5|       0.0|  Norte|Decrescente|\n",
      "|           VIA BAHIA|          2003|        Federal| 116| BA|       425.8|     930.6|  Norte|Decrescente|\n",
      "|           VIA BAHIA|          2003|        Federal| 116| BA|       425.8|     930.6|    Sul|  Crescente|\n",
      "|           VIA BAHIA|          2003|        Federal| 116| BA|     930.601|     936.8|    Sul|  Crescente|\n",
      "|           VIA BAHIA|          2003|        Federal| 116| BA|     930.601|     936.8|  Norte|Decrescente|\n",
      "|             VIA SUL|          2019|        Federal| 101| RS|         0.0|      88.5|    Sul|  Crescente|\n",
      "|             VIA SUL|          2019|        Federal| 101| RS|       88.42|       0.0|  Norte|Decrescente|\n",
      "+--------------------+--------------+---------------+----+---+------------+----------+-------+-----------+\n",
      "\n"
     ]
    }
   ],
   "source": [
    "df.show(72)"
   ]
  },
  {
   "cell_type": "code",
   "execution_count": null,
   "id": "cfdc6e20-973b-4821-bc9c-4636a702b4fc",
   "metadata": {},
   "outputs": [],
   "source": []
  }
 ],
 "metadata": {
  "kernelspec": {
   "display_name": "Python 3",
   "language": "python",
   "name": "python3"
  },
  "language_info": {
   "codemirror_mode": {
    "name": "ipython",
    "version": 3
   },
   "file_extension": ".py",
   "mimetype": "text/x-python",
   "name": "python",
   "nbconvert_exporter": "python",
   "pygments_lexer": "ipython3",
   "version": "3.9.7"
  }
 },
 "nbformat": 4,
 "nbformat_minor": 5
}
