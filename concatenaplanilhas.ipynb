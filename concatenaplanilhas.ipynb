{
 "cells": [
  {
   "cell_type": "code",
   "execution_count": 85,
   "id": "3d6a4ef3-b599-4b1d-927c-9a7c7f7aca78",
   "metadata": {},
   "outputs": [],
   "source": [
    "from pyspark import SparkConf, SparkContext\n",
    "from pyspark.sql import SparkSession\n",
    "from pyspark import SparkConf\n",
    "import pyspark.sql.functions as F\n",
    "from pyspark.sql.types import *\n",
    "from pyspark.sql.functions import *\n",
    "from pyspark.sql.functions import countDistinct\n",
    "from pyspark.sql import Window\n",
    "import os"
   ]
  },
  {
   "cell_type": "code",
   "execution_count": 1,
   "id": "271a6ec9-4725-43f1-8ba9-37d801dfa6f9",
   "metadata": {},
   "outputs": [
    {
     "data": {
      "text/plain": [
       "'3.1.2'"
      ]
     },
     "execution_count": 1,
     "metadata": {},
     "output_type": "execute_result"
    }
   ],
   "source": [
    "sc.version"
   ]
  },
  {
   "cell_type": "code",
   "execution_count": 60,
   "id": "83a2742a-fe12-49f1-b0ec-5d84e4a3fd90",
   "metadata": {},
   "outputs": [],
   "source": [
    "\n",
    "schema = StructType(\n",
    "   [StructField('id', StringType(), True),\n",
    "    StructField('data_inversa', StringType(), True),\n",
    "    StructField('dia_semana', StringType(), True),\n",
    "    StructField('horario', StringType(), True),\n",
    "    StructField('uf', StringType(), True),\n",
    "    StructField('br', StringType(), True),\n",
    "    StructField('km', FloatType(), True),\n",
    "    StructField('municipio', StringType(), True),\n",
    "    StructField('causa_acidente', StringType(), True),\n",
    "    StructField('tipo_acidente', StringType(), True),\n",
    "    StructField('classificacao_acidente', StringType(), True),\n",
    "    StructField('fase_dia', StringType(), True),\n",
    "    StructField('sentido_via', StringType(), True),\n",
    "    StructField('condicao_metereologica', StringType(), True),\n",
    "    StructField('tipo_pista', StringType(), True),\n",
    "    StructField('tracado_via', StringType(), True),\n",
    "    StructField('uso_solo', StringType(), True),\n",
    "    StructField('pessoas', IntegerType(), True),\n",
    "    StructField('mortos', IntegerType(), True),\n",
    "    StructField('feridos_leves', IntegerType(), True),\n",
    "    StructField('feridos_graves', IntegerType(), True),\n",
    "    StructField('ilesos', IntegerType(), True),\n",
    "    StructField('ignorados', IntegerType(), True),\n",
    "    StructField('feridos', IntegerType(), True),\n",
    "    StructField('veiculos', IntegerType(), True),\n",
    "    StructField('latitude', StringType(), True),\n",
    "    StructField('longitude', StringType(), True),\n",
    "    StructField('regional', StringType(), True),\n",
    "    StructField('delegacia', StringType(), True),\n",
    "    StructField('uop', StringType(), True),\n",
    "   ]\n",
    "  )"
   ]
  },
  {
   "cell_type": "code",
   "execution_count": 61,
   "id": "71850e81-7e75-4b67-b60b-2bb9a43b0709",
   "metadata": {},
   "outputs": [
    {
     "name": "stdout",
     "output_type": "stream",
     "text": [
      "+---+------------+----------+--------+---+---+-----+--------------------+--------------------+--------------------+----------------------+-----------+-----------+----------------------+----------+------------------+--------+-------+------+-------------+--------------+------+---------+-------+--------+------------+------------+--------+---------+--------+\n",
      "| id|data_inversa|dia_semana| horario| uf| br|   km|           municipio|      causa_acidente|       tipo_acidente|classificacao_acidente|   fase_dia|sentido_via|condicao_metereologica|tipo_pista|       tracado_via|uso_solo|pessoas|mortos|feridos_leves|feridos_graves|ilesos|ignorados|feridos|veiculos|    latitude|   longitude|regional|delegacia|     uop|\n",
      "+---+------------+----------+--------+---+---+-----+--------------------+--------------------+--------------------+----------------------+-----------+-----------+----------------------+----------+------------------+--------+-------+------+-------------+--------------+------+---------+-------+--------+------------+------------+--------+---------+--------+\n",
      "|  8|  2017-01-01|   domingo|00:00:00| PR|376|112.0|           PARANAVAI|Fenômenos da Natu...|Queda de ocupante...|   Com Vítimas Feridas|Plena Noite|  Crescente|                 Chuva|   Simples|              Reta|     Não|      1|     0|            0|             1|     0|        0|      1|       1|-23,09880731|-52,38789369|   SR-PR|   DEL7/7|UOP05/PR|\n",
      "|  9|  2017-01-01|   domingo|00:01:00| SC|101|234.0|             PALHOCA|Falta de Atenção ...|Colisão com objet...|           Sem Vítimas|Plena Noite|  Crescente|                 Chuva|     Dupla|             Curva|     Não|      1|     0|            0|             0|     1|        0|      0|       1|    -27,8101|    -48,6357|   SR-SC|   DEL8/1|UOP02/SC|\n",
      "| 11|  2017-01-01|   domingo|00:00:00| PR|153| null|SANTO ANTONIO DA ...|    Animais na Pista|         Capotamento|   Com Vítimas Feridas|Plena Noite|Decrescente|        Garoa/Chuvisco|   Simples|              Reta|     Não|      2|     0|            2|             0|     0|        0|      2|       1|-23,36951985|309,93513107|   SR-PR|   DEL7/7|UOP07/PR|\n",
      "| 12|  2017-01-01|   domingo|00:00:00| GO|153|435.0|            ANAPOLIS|Avarias e/ou desg...|          Tombamento|   Com Vítimas Feridas|Plena Noite|Decrescente|             Céu Claro|     Dupla|              Reta|     Sim|      1|     0|            0|             1|     0|        0|      1|       1|-16,27473677|-48,96908998|   SR-GO|   DEL1/2|UOP01/GO|\n",
      "| 13|  2017-01-01|   domingo|00:00:00| SC|280| null|              CORUPA|  Ingestão de Álcool|Saída de leito ca...|   Com Vítimas Feridas|Plena Noite|Decrescente|                 Chuva|   Simples|     Não Informado|     Não|      1|     0|            1|             0|     0|        0|      1|       1|-26,44675249|-49,20166969|   SR-SC|   DEL8/6|UOP03/SC|\n",
      "| 14|  2017-01-01|   domingo|00:40:00| GO| 60|188.0|               GUAPO|Falta de Atenção ...|    Colisão traseira|   Com Vítimas Feridas|Plena Noite|Decrescente|               Nublado|     Dupla|              Reta|     Sim|      2|     0|            1|             0|     1|        0|      1|       2|-16,82489647|-49,53520775|   SR-GO|   DEL1/1|UOP02/GO|\n",
      "| 15|  2017-01-01|   domingo|00:01:00| PB|104| null|       NOVA FLORESTA|  Ingestão de Álcool|          Tombamento|    Com Vítimas Fatais|Plena Noite|Decrescente|             Céu Claro|   Simples|             Curva|     Sim|      1|     1|            0|             0|     0|        0|      0|       1|     -6,4622|    -36,1899|   SR-PB|  DEL14/2|UOP04/PB|\n",
      "| 16|  2017-01-01|   domingo|00:30:00| TO|153| null|           ARAGUAINA|  Ingestão de Álcool|    Colisão traseira|   Com Vítimas Feridas|Plena Noite|Decrescente|              Ignorado|  Múltipla|              Reta|     Sim|      4|     0|            2|             0|     1|        1|      2|       2| -7,18668515|-48,22970957|   SR-TO| UOP04/TO|    null|\n",
      "| 17|  2017-01-01|   domingo|01:45:00| RS|116| null|             VACARIA|Defeito Mecânico ...|    Colisão traseira|   Com Vítimas Feridas|Plena Noite|Decrescente|             Céu Claro|   Simples|              Reta|     Não|      6|     0|            4|             0|     2|        0|      4|       2| -28,5071196|  -50,941176|   SR-RS|   DEL9/5|UOP03/RS|\n",
      "| 18|  2017-01-01|   domingo|01:40:00| RS|290|722.0|          URUGUAIANA|    Animais na Pista|Atropelamento de ...|   Com Vítimas Feridas|Plena Noite|  Crescente|             Céu Claro|   Simples|              Reta|     Sim|      2|     0|            2|             0|     0|        0|      2|       1|-29,75605083|-57,06461906|   SR-RS|  DEL9/13|UOP01/RS|\n",
      "| 19|  2017-01-01|   domingo|00:30:00| PE|408| 51.0|      NAZARE DA MATA|Desobediência às ...|     Colisão frontal|    Com Vítimas Fatais|Plena Noite|Decrescente|               Nublado|   Simples|              Reta|     Não|      3|     1|            0|             1|     0|        1|      1|       2| -7,73818698|-35,23465097|   SR-PE|  DEL11/1|UOP01/PE|\n",
      "| 20|  2017-01-01|   domingo|01:00:00| PR|376|636.0|      TIJUCAS DO SUL|Velocidade Incomp...|Saída de leito ca...|    Com Vítimas Fatais|Plena Noite|  Crescente|        Garoa/Chuvisco|     Dupla|             Curva|     Não|      2|     1|            0|             0|     1|        0|      0|       2|     -25,754|    -49,1266|   SR-PR|   DEL7/1|UOP08/PR|\n",
      "| 21|  2017-01-01|   domingo|00:00:00| PI|316| null|      LAGOA DO PIAUI|Velocidade Incomp...|Saída de leito ca...|    Com Vítimas Fatais|Plena Noite|Decrescente|               Nublado|   Simples|             Curva|     Não|      4|     1|            0|             1|     0|        2|      1|       1| -5,43086608| -42,6358987|   SR-PI|  DEL17/1|UOP02/PI|\n",
      "| 22|  2017-01-01|   domingo|01:15:00| CE| 20| null|           FORTALEZA|    Animais na Pista|          Tombamento|   Com Vítimas Feridas|Plena Noite|  Crescente|             Céu Claro|   Simples|              Reta|     Não|      2|     0|            2|             0|     0|        0|      2|       1|  -3,7318616| -38,5266704|   SR-CE|  DEL16/1|UOP02/CE|\n",
      "| 23|  2017-01-01|   domingo|01:38:00| SC|101| null|             BIGUACU|Velocidade Incomp...|Saída de leito ca...|   Com Vítimas Feridas|Plena Noite|Decrescente|                 Chuva|     Dupla|     Não Informado|     Não|      1|     0|            1|             0|     0|        0|      1|       1|-27,46422502|-48,64184184|   SR-SC|   DEL8/1|UOP01/SC|\n",
      "| 24|  2017-01-01|   domingo|02:10:00| SC|101| 45.0|           JOINVILLE|  Ingestão de Álcool|    Colisão traseira|   Com Vítimas Feridas|Plena Noite|Decrescente|                 Chuva|     Dupla|             Curva|     Sim|      2|     0|            1|             0|     1|        0|      1|       2|    -26,3487|    -48,8574|   SR-SC|   DEL8/3|UOP01/SC|\n",
      "| 25|  2017-01-01|   domingo|00:30:00| MS|262| null|         TRES LAGOAS|    Animais na Pista|Atropelamento de ...|           Sem Vítimas|Plena Noite|Decrescente|             Céu Claro|   Simples|              Reta|     Não|      1|     0|            0|             0|     1|        0|      0|       1|-20,78594796|-51,92953072|   SR-MS|   DEL3/7|UOP01/MS|\n",
      "| 26|  2017-01-01|   domingo|00:30:00| GO| 20| null|             FORMOSA|  Ingestão de Álcool|Saída de leito ca...|           Sem Vítimas|Plena Noite|Decrescente|             Céu Claro|   Simples|Interseção de vias|     Não|      1|     0|            0|             0|     1|        0|      0|       1|-15,54699656|-47,16523376|   SR-DF| UOP04/DF|    null|\n",
      "| 28|  2017-01-01|   domingo|01:25:00| MS|163|488.0|        CAMPO GRANDE|Restrição de Visi...|Saída de leito ca...|   Com Vítimas Feridas|Plena Noite|Decrescente|             Céu Claro|   Simples|              Reta|     Sim|      1|     0|            1|             0|     0|        0|      1|       1|    -20,4311|    -54,5442|   SR-MS|   DEL3/1|UOP02/MS|\n",
      "| 30|  2017-01-01|   domingo|02:20:00| SP|153| null|SAO JOSE DO RIO P...|  Ingestão de Álcool|    Colisão traseira|           Sem Vítimas|Plena Noite|Decrescente|             Céu Claro|     Dupla|             Curva|     Sim|      5|     0|            0|             0|     5|        0|      0|       2|-20,82376296|-49,35789764|   SR-SP|   DEL6/9|UOP01/SP|\n",
      "+---+------------+----------+--------+---+---+-----+--------------------+--------------------+--------------------+----------------------+-----------+-----------+----------------------+----------+------------------+--------+-------+------+-------------+--------------+------+---------+-------+--------+------------+------------+--------+---------+--------+\n",
      "only showing top 20 rows\n",
      "\n"
     ]
    }
   ],
   "source": [
    "df = spark.read.options(header=True).option(\"delimiter\", \";\").option(\"encoding\", \"ISO-8859-1\").csv(\"gs://dadosacidentes/Acidentes por ocorrencia/\", schema=schema)\n",
    "df.show()"
   ]
  },
  {
   "cell_type": "code",
   "execution_count": 12,
   "id": "cc462d51-73a7-4156-bf08-9cb09b83106a",
   "metadata": {},
   "outputs": [
    {
     "name": "stderr",
     "output_type": "stream",
     "text": [
      "[Stage 7:=======================>                                   (2 + 3) / 5]\r"
     ]
    },
    {
     "name": "stdout",
     "output_type": "stream",
     "text": [
      "+--------------------+-----+\n",
      "|           municipio|count|\n",
      "+--------------------+-----+\n",
      "|            CURITIBA| 5206|\n",
      "|            BRASILIA| 5070|\n",
      "|            SAO JOSE| 3960|\n",
      "|           GUARULHOS| 3646|\n",
      "|             PALHOCA| 3266|\n",
      "|               SERRA| 2846|\n",
      "|     DUQUE DE CAXIAS| 2696|\n",
      "|               BETIM| 2665|\n",
      "|SAO JOSE DOS PINHAIS| 2285|\n",
      "|         PORTO VELHO| 2266|\n",
      "|              RECIFE| 2158|\n",
      "|            TERESINA| 2103|\n",
      "|          UBERLANDIA| 2100|\n",
      "|           CARIACICA| 1928|\n",
      "|             MARINGA| 1886|\n",
      "|            CASCAVEL| 1791|\n",
      "|         JOAO PESSOA| 1788|\n",
      "|              ITAJAI| 1772|\n",
      "|           FORTALEZA| 1729|\n",
      "|    FEIRA DE SANTANA| 1716|\n",
      "+--------------------+-----+\n",
      "only showing top 20 rows\n",
      "\n"
     ]
    },
    {
     "name": "stderr",
     "output_type": "stream",
     "text": [
      "                                                                                \r"
     ]
    }
   ],
   "source": [
    "df.groupBy(df.municipio).count().orderBy('count', ascending=False).show()"
   ]
  },
  {
   "cell_type": "code",
   "execution_count": 15,
   "id": "3e674b9b-545f-4b40-aff9-eb04471965d1",
   "metadata": {},
   "outputs": [
    {
     "name": "stderr",
     "output_type": "stream",
     "text": [
      "[Stage 13:==============================================>           (4 + 1) / 5]\r"
     ]
    },
    {
     "name": "stdout",
     "output_type": "stream",
     "text": [
      "+---+-----+\n",
      "| uf|count|\n",
      "+---+-----+\n",
      "| MG|47198|\n",
      "| SC|42692|\n",
      "| PR|40869|\n",
      "| RS|24138|\n",
      "| RJ|23942|\n",
      "| SP|23247|\n",
      "| BA|18475|\n",
      "| GO|17599|\n",
      "| PE|14002|\n",
      "| ES|13545|\n",
      "| MT|12624|\n",
      "| CE| 8459|\n",
      "| MS| 8079|\n",
      "| RO| 7896|\n",
      "| PB| 7844|\n",
      "| RN| 6979|\n",
      "| PI| 6596|\n",
      "| MA| 6214|\n",
      "| PA| 5383|\n",
      "| DF| 5070|\n",
      "| AL| 3432|\n",
      "| SE| 3017|\n",
      "| TO| 2990|\n",
      "| AC| 1347|\n",
      "| RR| 1277|\n",
      "| AP|  792|\n",
      "| AM|  587|\n",
      "+---+-----+\n",
      "\n"
     ]
    },
    {
     "name": "stderr",
     "output_type": "stream",
     "text": [
      "                                                                                \r"
     ]
    }
   ],
   "source": [
    "df.groupBy(df.uf).count().orderBy('count', ascending=False).show(28)"
   ]
  },
  {
   "cell_type": "code",
   "execution_count": 26,
   "id": "579befb8-b600-4afa-8368-4f24a3b2521e",
   "metadata": {},
   "outputs": [
    {
     "name": "stderr",
     "output_type": "stream",
     "text": [
      "[Stage 61:======================================>                   (2 + 1) / 3]\r"
     ]
    },
    {
     "name": "stdout",
     "output_type": "stream",
     "text": [
      "+---+-----+\n",
      "| br|count|\n",
      "+---+-----+\n",
      "|101|58233|\n",
      "|116|51877|\n",
      "|381|17786|\n",
      "| 40|16781|\n",
      "|153|14135|\n",
      "|364|11943|\n",
      "|163|11113|\n",
      "|277|10434|\n",
      "|376|10021|\n",
      "|262| 9623|\n",
      "|470| 8929|\n",
      "|282| 7299|\n",
      "|316| 6898|\n",
      "|230| 6816|\n",
      "| 60| 6011|\n",
      "| 70| 5169|\n",
      "| 20| 4774|\n",
      "|476| 4495|\n",
      "|280| 4175|\n",
      "|232| 4134|\n",
      "|222| 4087|\n",
      "| 50| 3915|\n",
      "|369| 3898|\n",
      "|158| 3719|\n",
      "|290| 3684|\n",
      "|324| 3665|\n",
      "|365| 3294|\n",
      "|135| 3153|\n",
      "|386| 3094|\n",
      "|343| 2929|\n",
      "|174| 2497|\n",
      "|104| 2075|\n",
      "| 10| 2061|\n",
      "|285| 2015|\n",
      "|392| 1936|\n",
      "|393| 1883|\n",
      "|242| 1842|\n",
      "|304| 1786|\n",
      "|110| 1623|\n",
      "|267| 1607|\n",
      "|407| 1414|\n",
      "|251| 1404|\n",
      "|235| 1340|\n",
      "|226| 1184|\n",
      "|373| 1087|\n",
      "|319| 1083|\n",
      "|356|  997|\n",
      "|423|  959|\n",
      "|493|  930|\n",
      "|428|  823|\n",
      "|287|  817|\n",
      "|459|  770|\n",
      "| NA|  680|\n",
      "|293|  608|\n",
      "| 80|  574|\n",
      "|406|  573|\n",
      "|210|  572|\n",
      "|259|  571|\n",
      "|408|  556|\n",
      "|467|  527|\n",
      "|354|  512|\n",
      "|472|  507|\n",
      "|465|  505|\n",
      "|405|  492|\n",
      "|424|  482|\n",
      "|452|  467|\n",
      "|367|  459|\n",
      "|414|  437|\n",
      "|471|  429|\n",
      "|146|  416|\n",
      "|435|  388|\n",
      "|427|  382|\n",
      "|463|  368|\n",
      "|480|  362|\n",
      "|272|  340|\n",
      "|415|  327|\n",
      "|402|  316|\n",
      "|482|  281|\n",
      "|448|  255|\n",
      "|468|  249|\n",
      "|401|  249|\n",
      "|155|  243|\n",
      "|317|  237|\n",
      "|156|  225|\n",
      "|418|  213|\n",
      "|469|  208|\n",
      "|330|  203|\n",
      "|361|  183|\n",
      "|308|  175|\n",
      "|488|  169|\n",
      "|487|  169|\n",
      "|429|  118|\n",
      "|421|  117|\n",
      "|410|  115|\n",
      "|420|  113|\n",
      "|412|  100|\n",
      "|495|   84|\n",
      "|425|   75|\n",
      "|432|   68|\n",
      "|359|   60|\n",
      "|447|   51|\n",
      "|419|   42|\n",
      "| 30|   34|\n",
      "|416|   27|\n",
      "|377|   25|\n",
      "|349|   25|\n",
      "|436|   18|\n",
      "|122|   15|\n",
      "|403|   14|\n",
      "|484|   11|\n",
      "|404|    9|\n",
      "|434|    9|\n",
      "|485|    7|\n",
      "|457|    3|\n",
      "|426|    3|\n",
      "|265|    3|\n",
      "|451|    3|\n",
      "|422|    3|\n",
      "|475|    2|\n",
      "|430|    2|\n",
      "|433|    2|\n",
      "|352|    2|\n",
      "|486|    1|\n",
      "|383|    1|\n",
      "|120|    1|\n",
      "|477|    1|\n",
      "|342|    1|\n",
      "|498|    1|\n",
      "|473|    1|\n",
      "+---+-----+\n",
      "\n"
     ]
    },
    {
     "name": "stderr",
     "output_type": "stream",
     "text": [
      "                                                                                \r"
     ]
    }
   ],
   "source": [
    "df.groupBy(df.br).count().orderBy('count', ascending=False).show(150)"
   ]
  },
  {
   "cell_type": "code",
   "execution_count": 35,
   "id": "dae961e1-d802-4b39-944f-44811b9bf969",
   "metadata": {},
   "outputs": [
    {
     "name": "stderr",
     "output_type": "stream",
     "text": [
      "                                                                                \r"
     ]
    },
    {
     "data": {
      "text/plain": [
       "354293"
      ]
     },
     "execution_count": 35,
     "metadata": {},
     "output_type": "execute_result"
    }
   ],
   "source": [
    "df.count()"
   ]
  },
  {
   "cell_type": "code",
   "execution_count": 36,
   "id": "979e2a90-dc55-4b00-9b7c-45303da0ac9f",
   "metadata": {},
   "outputs": [
    {
     "data": {
      "text/plain": [
       "['id',\n",
       " 'data_inversa',\n",
       " 'dia_semana',\n",
       " 'horario',\n",
       " 'uf',\n",
       " 'br',\n",
       " 'km',\n",
       " 'municipio',\n",
       " 'causa_acidente',\n",
       " 'tipo_acidente',\n",
       " 'classificacao_acidente',\n",
       " 'fase_dia',\n",
       " 'sentido_via',\n",
       " 'condicao_metereologica',\n",
       " 'tipo_pista',\n",
       " 'tracado_via',\n",
       " 'uso_solo',\n",
       " 'pessoas',\n",
       " 'mortos',\n",
       " 'feridos_leves',\n",
       " 'feridos_graves',\n",
       " 'ilesos',\n",
       " 'ignorados',\n",
       " 'feridos',\n",
       " 'veiculos',\n",
       " 'latitude',\n",
       " 'longitude',\n",
       " 'regional',\n",
       " 'delegacia',\n",
       " 'uop']"
      ]
     },
     "execution_count": 36,
     "metadata": {},
     "output_type": "execute_result"
    }
   ],
   "source": [
    "df.columns"
   ]
  },
  {
   "cell_type": "code",
   "execution_count": 37,
   "id": "a4d6546e-656f-4248-9b11-b75c0c28e23d",
   "metadata": {},
   "outputs": [
    {
     "name": "stderr",
     "output_type": "stream",
     "text": [
      "                                                                                \r"
     ]
    },
    {
     "data": {
      "text/plain": [
       "[Row(tipo_acidente='Incêndio'),\n",
       " Row(tipo_acidente='Atropelamento de Animal'),\n",
       " Row(tipo_acidente='Colisão frontal'),\n",
       " Row(tipo_acidente='Capotamento'),\n",
       " Row(tipo_acidente='Queda de ocupante de veículo'),\n",
       " Row(tipo_acidente='Danos eventuais'),\n",
       " Row(tipo_acidente='Colisão com objeto'),\n",
       " Row(tipo_acidente='Eventos atípicos'),\n",
       " Row(tipo_acidente='Colisão lateral sentido oposto'),\n",
       " Row(tipo_acidente='Saída de leito carroçável'),\n",
       " Row(tipo_acidente='Colisão traseira'),\n",
       " Row(tipo_acidente='Colisão transversal'),\n",
       " Row(tipo_acidente='Atropelamento de Pedestre'),\n",
       " Row(tipo_acidente='Colisão com objeto em movimento'),\n",
       " Row(tipo_acidente='Colisão com objeto estático'),\n",
       " Row(tipo_acidente='Derramamento de carga'),\n",
       " Row(tipo_acidente='Engavetamento'),\n",
       " Row(tipo_acidente='Colisão lateral'),\n",
       " Row(tipo_acidente='Colisão lateral mesmo sentido'),\n",
       " Row(tipo_acidente='Tombamento')]"
      ]
     },
     "execution_count": 37,
     "metadata": {},
     "output_type": "execute_result"
    }
   ],
   "source": [
    "df.select('tipo_acidente').distinct().collect()"
   ]
  },
  {
   "cell_type": "code",
   "execution_count": 38,
   "id": "d1d6c9a1-ef6a-4df9-9655-8d6d1c955364",
   "metadata": {},
   "outputs": [
    {
     "name": "stderr",
     "output_type": "stream",
     "text": [
      "                                                                                \r"
     ]
    },
    {
     "data": {
      "text/plain": [
       "[Row(causa_acidente='Falta de Atenção à Condução'),\n",
       " Row(causa_acidente='Velocidade Incompatível'),\n",
       " Row(causa_acidente='Mal Súbito'),\n",
       " Row(causa_acidente='Não guardar distância de segurança'),\n",
       " Row(causa_acidente='Ingestão de álcool e/ou substâncias psicoativas pelo pedestre'),\n",
       " Row(causa_acidente='Ultrapassagem Indevida'),\n",
       " Row(causa_acidente='Ingestão de Substâncias Psicoativas'),\n",
       " Row(causa_acidente='Desobediência às normas de trânsito pelo condutor'),\n",
       " Row(causa_acidente='Carga excessiva e/ou mal acondicionada'),\n",
       " Row(causa_acidente='Estacionar ou parar em local proibido'),\n",
       " Row(causa_acidente='Demais Fenômenos da natureza'),\n",
       " Row(causa_acidente='Sinalização mal posicionada'),\n",
       " Row(causa_acidente='Participar de racha'),\n",
       " Row(causa_acidente='Declive acentuado'),\n",
       " Row(causa_acidente='Frear bruscamente'),\n",
       " Row(causa_acidente='Pista em desnível'),\n",
       " Row(causa_acidente='Ingestão de álcool ou de substâncias psicoativas pelo pedestre'),\n",
       " Row(causa_acidente='Retorno proibido'),\n",
       " Row(causa_acidente='Ausência de sinalização'),\n",
       " Row(causa_acidente='Demais falhas mecânicas ou elétricas'),\n",
       " Row(causa_acidente='Pedestre cruzava a pista fora da faixa'),\n",
       " Row(causa_acidente='Faixas de trânsito com largura insuficiente'),\n",
       " Row(causa_acidente='Sistema de drenagem ineficiente'),\n",
       " Row(causa_acidente='Transitar no acostamento'),\n",
       " Row(causa_acidente='Reação tardia ou ineficiente do condutor'),\n",
       " Row(causa_acidente='Faróis desregulados'),\n",
       " Row(causa_acidente='Deficiência do Sistema de Iluminação/Sinalização'),\n",
       " Row(causa_acidente='Ausência de reação do condutor'),\n",
       " Row(causa_acidente='Chuva'),\n",
       " Row(causa_acidente='Desrespeitar a preferência no cruzamento'),\n",
       " Row(causa_acidente='Condutor deixou de manter distância do veículo da frente'),\n",
       " Row(causa_acidente='Modificação proibida'),\n",
       " Row(causa_acidente='Acessar a via sem observar a presença dos outros veículos'),\n",
       " Row(causa_acidente='Obstrução na via'),\n",
       " Row(causa_acidente='Curva acentuada'),\n",
       " Row(causa_acidente='Restrição de visibilidade em curvas horizontais'),\n",
       " Row(causa_acidente='Acesso irregular'),\n",
       " Row(causa_acidente='Problema na suspensão'),\n",
       " Row(causa_acidente='Restrição de visibilidade em curvas verticais'),\n",
       " Row(causa_acidente='Obras na pista'),\n",
       " Row(causa_acidente='Mal súbito do condutor'),\n",
       " Row(causa_acidente='Semáforo com defeito'),\n",
       " Row(causa_acidente='Entrada inopinada do pedestre'),\n",
       " Row(causa_acidente='Transitar na contramão'),\n",
       " Row(causa_acidente='Conversão proibida'),\n",
       " Row(causa_acidente='Condutor Dormindo'),\n",
       " Row(causa_acidente='Pista Escorregadia'),\n",
       " Row(causa_acidente='Avarias e/ou desgaste excessivo no pneu'),\n",
       " Row(causa_acidente='Agressão Externa'),\n",
       " Row(causa_acidente='Objeto estático sobre o leito carroçável'),\n",
       " Row(causa_acidente='Deficiência ou não Acionamento do Sistema de Iluminação/Sinalização do Veículo'),\n",
       " Row(causa_acidente='Restrição de Visibilidade'),\n",
       " Row(causa_acidente='Ingestão de Álcool'),\n",
       " Row(causa_acidente='Falta de Atenção do Pedestre'),\n",
       " Row(causa_acidente='Defeito na Via'),\n",
       " Row(causa_acidente='Animais na Pista'),\n",
       " Row(causa_acidente='Fenômenos da Natureza'),\n",
       " Row(causa_acidente='Defeito Mecânico no Veículo'),\n",
       " Row(causa_acidente='Sinalização da via insuficiente ou inadequada'),\n",
       " Row(causa_acidente='Transitar na calçada'),\n",
       " Row(causa_acidente='Acostamento em desnível'),\n",
       " Row(causa_acidente='Condutor desrespeitou a iluminação vermelha do semáforo'),\n",
       " Row(causa_acidente='Pista esburacada'),\n",
       " Row(causa_acidente='Ingestão de álcool pelo condutor'),\n",
       " Row(causa_acidente='Acumulo de areia ou detritos sobre o pavimento'),\n",
       " Row(causa_acidente='Iluminação deficiente'),\n",
       " Row(causa_acidente='Manobra de mudança de faixa'),\n",
       " Row(causa_acidente='Sinalização encoberta'),\n",
       " Row(causa_acidente='Trafegar com motocicleta (ou similar) entre as faixas'),\n",
       " Row(causa_acidente='Falta de elemento de contenção que evite a saída do leito carroçável'),\n",
       " Row(causa_acidente='Problema com o freio'),\n",
       " Row(causa_acidente='Ingestão de substâncias psicoativas pelo condutor'),\n",
       " Row(causa_acidente='Área urbana sem a presença de local apropriado para a travessia de pedestres'),\n",
       " Row(causa_acidente='Neblina'),\n",
       " Row(causa_acidente='Redutor de velocidade em desacordo'),\n",
       " Row(causa_acidente='Afundamento ou ondulação no pavimento'),\n",
       " Row(causa_acidente='Pedestre andava na pista'),\n",
       " Row(causa_acidente='Acumulo de água sobre o pavimento'),\n",
       " Row(causa_acidente='Deixar de acionar o farol da motocicleta (ou similar)'),\n",
       " Row(causa_acidente='Acumulo de óleo sobre o pavimento'),\n",
       " Row(causa_acidente='Falta de acostamento'),\n",
       " Row(causa_acidente='Condutor usando celular'),\n",
       " Row(causa_acidente='Fumaça'),\n",
       " Row(causa_acidente='Desobediência às normas de trânsito pelo pedestre'),\n",
       " Row(causa_acidente='Demais falhas na via'),\n",
       " Row(causa_acidente='Desvio temporário')]"
      ]
     },
     "execution_count": 38,
     "metadata": {},
     "output_type": "execute_result"
    }
   ],
   "source": [
    "df.select('causa_acidente').distinct().collect()"
   ]
  },
  {
   "cell_type": "code",
   "execution_count": 39,
   "id": "ef0badf4-ccdd-4740-ae09-63b99ddb990e",
   "metadata": {},
   "outputs": [
    {
     "name": "stderr",
     "output_type": "stream",
     "text": [
      "[Stage 76:======================================>                   (2 + 1) / 3]\r"
     ]
    },
    {
     "name": "stdout",
     "output_type": "stream",
     "text": [
      "+--------------------+------+\n",
      "|      causa_acidente| count|\n",
      "+--------------------+------+\n",
      "|Falta de Atenção ...|107739|\n",
      "|Velocidade Incomp...| 35936|\n",
      "|Desobediência às ...| 29308|\n",
      "|  Ingestão de Álcool| 22137|\n",
      "|Não guardar distâ...| 17919|\n",
      "|Defeito Mecânico ...| 15839|\n",
      "|   Condutor Dormindo| 13333|\n",
      "|  Pista Escorregadia| 11677|\n",
      "|    Animais na Pista|  8386|\n",
      "|Falta de Atenção ...|  8075|\n",
      "|Ultrapassagem Ind...|  7288|\n",
      "|Reação tardia ou ...|  6912|\n",
      "|Ausência de reaçã...|  5614|\n",
      "|Avarias e/ou desg...|  5555|\n",
      "|Acessar a via sem...|  5206|\n",
      "|Condutor deixou d...|  5129|\n",
      "|Ingestão de álcoo...|  4540|\n",
      "|      Defeito na Via|  4481|\n",
      "|Manobra de mudanç...|  3729|\n",
      "|          Mal Súbito|  2948|\n",
      "|Demais falhas mec...|  2736|\n",
      "|Objeto estático s...|  2567|\n",
      "|Restrição de Visi...|  2399|\n",
      "|Carga excessiva e...|  1907|\n",
      "|Transitar na cont...|  1790|\n",
      "|Desrespeitar a pr...|  1755|\n",
      "|Ingestão de álcoo...|  1398|\n",
      "|               Chuva|  1291|\n",
      "|Fenômenos da Natu...|  1203|\n",
      "|Sinalização da vi...|  1194|\n",
      "|    Agressão Externa|  1084|\n",
      "|Desobediência às ...|  1054|\n",
      "|  Conversão proibida|   879|\n",
      "|Trafegar com moto...|   823|\n",
      "|Deficiência ou nã...|   768|\n",
      "|Pedestre andava n...|   705|\n",
      "|Mal súbito do con...|   633|\n",
      "|Pedestre cruzava ...|   595|\n",
      "|Entrada inopinada...|   579|\n",
      "|Acumulo de água s...|   576|\n",
      "|    Acesso irregular|   549|\n",
      "|   Frear bruscamente|   452|\n",
      "|Transitar no acos...|   448|\n",
      "|Problema com o freio|   359|\n",
      "|    Pista esburacada|   347|\n",
      "|Ingestão de Subst...|   331|\n",
      "|     Curva acentuada|   326|\n",
      "|Condutor desrespe...|   322|\n",
      "|    Retorno proibido|   301|\n",
      "|Acumulo de areia ...|   252|\n",
      "|Demais falhas na via|   224|\n",
      "|Acostamento em de...|   206|\n",
      "|Ausência de sinal...|   190|\n",
      "|Deficiência do Si...|   182|\n",
      "|Afundamento ou on...|   181|\n",
      "|Iluminação defici...|   163|\n",
      "|Acumulo de óleo s...|   162|\n",
      "|      Obras na pista|   149|\n",
      "|Estacionar ou par...|   148|\n",
      "|Condutor usando c...|   125|\n",
      "|Ingestão de álcoo...|   122|\n",
      "|Área urbana sem a...|   111|\n",
      "|    Obstrução na via|   108|\n",
      "|Falta de acostamento|   103|\n",
      "|Ingestão de subst...|    97|\n",
      "|Demais Fenômenos ...|    84|\n",
      "|   Pista em desnível|    77|\n",
      "|Falta de elemento...|    74|\n",
      "|Problema na suspe...|    57|\n",
      "|   Desvio temporário|    54|\n",
      "|             Neblina|    50|\n",
      "|Sinalização mal p...|    48|\n",
      "|   Declive acentuado|    40|\n",
      "|              Fumaça|    38|\n",
      "|Restrição de visi...|    25|\n",
      "|Faixas de trânsit...|    17|\n",
      "|Deixar de acionar...|    14|\n",
      "|Restrição de visi...|    12|\n",
      "|Transitar na calçada|    11|\n",
      "|Redutor de veloci...|     9|\n",
      "| Faróis desregulados|     9|\n",
      "|Modificação proibida|     8|\n",
      "|Semáforo com defeito|     8|\n",
      "| Participar de racha|     7|\n",
      "|Sistema de drenag...|     3|\n",
      "|Sinalização encob...|     3|\n",
      "+--------------------+------+\n",
      "\n"
     ]
    },
    {
     "name": "stderr",
     "output_type": "stream",
     "text": [
      "                                                                                \r"
     ]
    }
   ],
   "source": [
    "df.groupBy(df.causa_acidente).count().orderBy('count', ascending=False).show(150)"
   ]
  },
  {
   "cell_type": "code",
   "execution_count": 40,
   "id": "6232ced1-a2e6-4401-af1e-72839db7facd",
   "metadata": {},
   "outputs": [
    {
     "name": "stderr",
     "output_type": "stream",
     "text": [
      "[Stage 79:======================================>                   (2 + 1) / 3]\r"
     ]
    },
    {
     "name": "stdout",
     "output_type": "stream",
     "text": [
      "+----------------------+------+\n",
      "|condicao_metereologica| count|\n",
      "+----------------------+------+\n",
      "|             Céu Claro|202539|\n",
      "|               Nublado| 61714|\n",
      "|                 Chuva| 42675|\n",
      "|                   Sol| 26481|\n",
      "|        Garoa/Chuvisco| 12016|\n",
      "|              Ignorado|  5166|\n",
      "|      Nevoeiro/Neblina|  2915|\n",
      "|                 Vento|   770|\n",
      "|               Granizo|    11|\n",
      "|                  Neve|     6|\n",
      "+----------------------+------+\n",
      "\n"
     ]
    },
    {
     "name": "stderr",
     "output_type": "stream",
     "text": [
      "                                                                                \r"
     ]
    }
   ],
   "source": [
    "df.groupBy(df.condicao_metereologica).count().orderBy('count', ascending=False).show(150)"
   ]
  },
  {
   "cell_type": "code",
   "execution_count": 41,
   "id": "304845ee-9263-4627-b980-b0f34908643f",
   "metadata": {},
   "outputs": [
    {
     "name": "stderr",
     "output_type": "stream",
     "text": [
      "                                                                                \r"
     ]
    },
    {
     "data": {
      "text/plain": [
       "[Row(condicao_metereologica='Vento'),\n",
       " Row(condicao_metereologica='Ignorado'),\n",
       " Row(condicao_metereologica='Garoa/Chuvisco'),\n",
       " Row(condicao_metereologica='Nevoeiro/Neblina'),\n",
       " Row(condicao_metereologica='Chuva'),\n",
       " Row(condicao_metereologica='Neve'),\n",
       " Row(condicao_metereologica='Nublado'),\n",
       " Row(condicao_metereologica='Sol'),\n",
       " Row(condicao_metereologica='Céu Claro'),\n",
       " Row(condicao_metereologica='Granizo')]"
      ]
     },
     "execution_count": 41,
     "metadata": {},
     "output_type": "execute_result"
    }
   ],
   "source": [
    "df.select('condicao_metereologica').distinct().collect()"
   ]
  },
  {
   "cell_type": "code",
   "execution_count": 42,
   "id": "4ce0e342-0b02-432a-b0c0-30a771988c92",
   "metadata": {},
   "outputs": [
    {
     "name": "stderr",
     "output_type": "stream",
     "text": [
      "                                                                                \r"
     ]
    },
    {
     "data": {
      "text/plain": [
       "[Row(tracado_via='Reta'),\n",
       " Row(tracado_via='Viaduto'),\n",
       " Row(tracado_via='Não Informado'),\n",
       " Row(tracado_via='Interseção de vias'),\n",
       " Row(tracado_via='Curva'),\n",
       " Row(tracado_via='Rotatória'),\n",
       " Row(tracado_via='Túnel'),\n",
       " Row(tracado_via='Retorno Regulamentado'),\n",
       " Row(tracado_via='Ponte'),\n",
       " Row(tracado_via='Desvio Temporário')]"
      ]
     },
     "execution_count": 42,
     "metadata": {},
     "output_type": "execute_result"
    }
   ],
   "source": [
    "df.select('tracado_via').distinct().collect()"
   ]
  },
  {
   "cell_type": "code",
   "execution_count": 43,
   "id": "73f01dfa-d822-4436-a3dd-dd1b16db0e01",
   "metadata": {},
   "outputs": [
    {
     "name": "stderr",
     "output_type": "stream",
     "text": [
      "[Stage 88:======================================>                   (2 + 1) / 3]\r"
     ]
    },
    {
     "name": "stdout",
     "output_type": "stream",
     "text": [
      "+--------------------+------+\n",
      "|         tracado_via| count|\n",
      "+--------------------+------+\n",
      "|                Reta|215175|\n",
      "|               Curva| 59196|\n",
      "|       Não Informado| 38046|\n",
      "|  Interseção de vias| 15912|\n",
      "|   Desvio Temporário|  9848|\n",
      "|           Rotatória|  7127|\n",
      "|Retorno Regulamen...|  4102|\n",
      "|             Viaduto|  2510|\n",
      "|               Ponte|  1963|\n",
      "|               Túnel|   414|\n",
      "+--------------------+------+\n",
      "\n"
     ]
    },
    {
     "name": "stderr",
     "output_type": "stream",
     "text": [
      "                                                                                \r"
     ]
    }
   ],
   "source": [
    "df.groupBy(df.tracado_via).count().orderBy('count', ascending=False).show(150)"
   ]
  },
  {
   "cell_type": "code",
   "execution_count": 76,
   "id": "d7d48741-98a1-4583-b0a1-e54332e0fd59",
   "metadata": {},
   "outputs": [
    {
     "name": "stderr",
     "output_type": "stream",
     "text": [
      "[Stage 132:============================>                            (1 + 1) / 2]\r"
     ]
    },
    {
     "name": "stdout",
     "output_type": "stream",
     "text": [
      "+---+------------+----------+-------+---+---+---+---------+--------------+-------------+----------------------+--------+-----------+----------------------+----------+-----------+--------+-------+------+-------------+--------------+------+---------+-------+--------+--------+---------+--------+---------+---+\n",
      "| id|data_inversa|dia_semana|horario| uf| br| km|municipio|causa_acidente|tipo_acidente|classificacao_acidente|fase_dia|sentido_via|condicao_metereologica|tipo_pista|tracado_via|uso_solo|pessoas|mortos|feridos_leves|feridos_graves|ilesos|ignorados|feridos|veiculos|latitude|longitude|regional|delegacia|uop|\n",
      "+---+------------+----------+-------+---+---+---+---------+--------------+-------------+----------------------+--------+-----------+----------------------+----------+-----------+--------+-------+------+-------------+--------------+------+---------+-------+--------+--------+---------+--------+---------+---+\n",
      "+---+------------+----------+-------+---+---+---+---------+--------------+-------------+----------------------+--------+-----------+----------------------+----------+-----------+--------+-------+------+-------------+--------------+------+---------+-------+--------+--------+---------+--------+---------+---+\n",
      "\n"
     ]
    },
    {
     "name": "stderr",
     "output_type": "stream",
     "text": [
      "                                                                                \r"
     ]
    }
   ],
   "source": [
    "df.filter(df.municipio=='na').show()"
   ]
  },
  {
   "cell_type": "code",
   "execution_count": 88,
   "id": "02502109-1834-4a65-823b-3d861bf94f25",
   "metadata": {},
   "outputs": [
    {
     "name": "stderr",
     "output_type": "stream",
     "text": [
      "[Stage 133:======================================>                  (2 + 1) / 3]\r"
     ]
    },
    {
     "name": "stdout",
     "output_type": "stream",
     "text": [
      "+-------------------------+\n",
      "|count(DISTINCT municipio)|\n",
      "+-------------------------+\n",
      "|                     2042|\n",
      "+-------------------------+\n",
      "\n"
     ]
    },
    {
     "name": "stderr",
     "output_type": "stream",
     "text": [
      "                                                                                \r"
     ]
    }
   ],
   "source": [
    "df.select(countDistinct(\"municipio\")).show()"
   ]
  },
  {
   "cell_type": "code",
   "execution_count": null,
   "id": "dfd90d23-bf93-4db7-a987-33c94121df59",
   "metadata": {},
   "outputs": [],
   "source": [
    "df.groupBy(df.municipio).count().orderBy('count', ascending=True).show(1000)"
   ]
  },
  {
   "cell_type": "code",
   "execution_count": 113,
   "id": "2de2b7f4-3de1-4dfb-a63e-7e293fc22c55",
   "metadata": {},
   "outputs": [
    {
     "name": "stderr",
     "output_type": "stream",
     "text": [
      "                                                                                \r"
     ]
    }
   ],
   "source": [
    "a=df.groupBy().sum().collect()"
   ]
  },
  {
   "cell_type": "code",
   "execution_count": 115,
   "id": "5f359a7d-d478-4652-9c89-5190a1292c16",
   "metadata": {},
   "outputs": [
    {
     "data": {
      "text/plain": [
       "[Row(sum(km)=48185249.0, sum(pessoas)=829763, sum(mortos)=27523, sum(feridos_leves)=293508, sum(feridos_graves)=89699, sum(ilesos)=369920, sum(ignorados)=49113, sum(feridos)=383207, sum(veiculos)=581934)]"
      ]
     },
     "execution_count": 115,
     "metadata": {},
     "output_type": "execute_result"
    }
   ],
   "source": [
    "a"
   ]
  },
  {
   "cell_type": "code",
   "execution_count": 121,
   "id": "2b26ef61-0a08-431f-9f0a-382fa75f32ab",
   "metadata": {},
   "outputs": [
    {
     "name": "stdout",
     "output_type": "stream",
     "text": [
      "48185249.0\n",
      "829763\n",
      "27523\n",
      "293508\n",
      "89699\n",
      "369920\n",
      "49113\n",
      "383207\n",
      "581934\n"
     ]
    }
   ],
   "source": [
    "for i in a[0]:\n",
    "    print(i)"
   ]
  },
  {
   "cell_type": "code",
   "execution_count": null,
   "id": "37716a81-a1eb-4d84-b090-f7f30cde7e92",
   "metadata": {},
   "outputs": [],
   "source": []
  }
 ],
 "metadata": {
  "kernelspec": {
   "display_name": "PySpark",
   "language": "python",
   "name": "pyspark"
  },
  "language_info": {
   "codemirror_mode": {
    "name": "ipython",
    "version": 3
   },
   "file_extension": ".py",
   "mimetype": "text/x-python",
   "name": "python",
   "nbconvert_exporter": "python",
   "pygments_lexer": "ipython3",
   "version": "3.8.12"
  }
 },
 "nbformat": 4,
 "nbformat_minor": 5
}
