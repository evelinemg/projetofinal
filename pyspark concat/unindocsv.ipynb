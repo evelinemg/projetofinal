{
 "cells": [
  {
   "cell_type": "code",
   "execution_count": 1,
   "id": "aad91573-42f3-42ed-81c1-e54f4b28c75a",
   "metadata": {},
   "outputs": [],
   "source": [
    "from pyspark import SparkConf, SparkContext\n",
    "from pyspark.sql import SparkSession\n",
    "from pyspark import SparkConf\n",
    "import pyspark.sql.functions as F\n",
    "from pyspark.sql.types import *\n",
    "from pyspark.sql.functions import *\n",
    "from pyspark.sql import Window\n",
    "import os"
   ]
  },
  {
   "cell_type": "code",
   "execution_count": 2,
   "id": "4e2ced27-713e-4e42-9ba2-06c070c9aaa3",
   "metadata": {},
   "outputs": [],
   "source": [
    "from google.cloud import storage\n",
    "os.environ[\"GOOGLE_APPLICATION_CREDENTIALS\"]=\"sca-at-b5179177a346.json\""
   ]
  },
  {
   "cell_type": "code",
   "execution_count": 3,
   "id": "6a1e8667-8d94-46e9-a3ff-ef4bf87368d2",
   "metadata": {},
   "outputs": [],
   "source": [
    "spark = (SparkSession.builder\n",
    "        .master(\"local\")\n",
    "        .appName(\"projetosoulcode\") \n",
    "        .config('spark.jars','gcs-connector-hadoop3-latest.jar' )\n",
    "        .config('spark.hadoop.fs.gs.impl','com.google.cloud.hadoop.fs.gcs.GoogleHadoopFileSystem')\n",
    "        .config('spark.hadoop.fs.gs.auth.service.account.enable', 'true')\n",
    "        .config(\"spark.hadoop.google.cloud.auth.service.account.json.keyfile\",'sca-at-b5179177a346.json')\n",
    "        .config('spark.hadoop.fs.gs.project.id','sca-at')\n",
    "        .getOrCreate())"
   ]
  },
  {
   "cell_type": "code",
   "execution_count": 4,
   "id": "d1a202ae-c603-4dc2-8fbd-4012277c8d7c",
   "metadata": {},
   "outputs": [
    {
     "name": "stdout",
     "output_type": "stream",
     "text": [
      "+----+------------+----------+--------+---+-----+-----+--------------------+--------------------+--------------------+----------------------+-----------+-----------+----------------------+----------+------------------+--------+-------+------+-------------+--------------+------+---------+-------+--------+------------+------------+--------+---------+--------+\n",
      "|  id|data_inversa|dia_semana| horario| uf|   br|   km|           municipio|      causa_acidente|       tipo_acidente|classificacao_acidente|   fase_dia|sentido_via|condicao_metereologica|tipo_pista|       tracado_via|uso_solo|pessoas|mortos|feridos_leves|feridos_graves|ilesos|ignorados|feridos|veiculos|    latitude|   longitude|regional|delegacia|     uop|\n",
      "+----+------------+----------+--------+---+-----+-----+--------------------+--------------------+--------------------+----------------------+-----------+-----------+----------------------+----------+------------------+--------+-------+------+-------------+--------------+------+---------+-------+--------+------------+------------+--------+---------+--------+\n",
      "| 8.0|  2017-01-01|   domingo|00:00:00| PR|376.0|  112|           PARANAVAI|Fenômenos da Natu...|Queda de ocupante...|   Com Vítimas Feridas|Plena Noite|  Crescente|                 Chuva|   Simples|              Reta|     Não|      1|     0|            0|             1|     0|        0|      1|       1|-23.09880731|-52.38789369|   SR-PR|   DEL7/7|UOP05/PR|\n",
      "| 9.0|  2017-01-01|   domingo|00:01:00| SC|101.0|  234|             PALHOCA|Falta de Atenção ...|Colisão com objet...|           Sem Vítimas|Plena Noite|  Crescente|                 Chuva|     Dupla|             Curva|     Não|      1|     0|            0|             0|     1|        0|      0|       1|    -27.8101|    -48.6357|   SR-SC|   DEL8/1|UOP02/SC|\n",
      "|11.0|  2017-01-01|   domingo|00:00:00| PR|153.0| 56,9|SANTO ANTONIO DA ...|    Animais na Pista|         Capotamento|   Com Vítimas Feridas|Plena Noite|Decrescente|        Garoa/Chuvisco|   Simples|              Reta|     Não|      2|     0|            2|             0|     0|        0|      2|       1|-23.36951985|309.93513107|   SR-PR|   DEL7/7|UOP07/PR|\n",
      "|12.0|  2017-01-01|   domingo|00:00:00| GO|153.0|  435|            ANAPOLIS|Avarias e/ou desg...|          Tombamento|   Com Vítimas Feridas|Plena Noite|Decrescente|             Céu Claro|     Dupla|              Reta|     Sim|      1|     0|            0|             1|     0|        0|      1|       1|-16.27473677|-48.96908998|   SR-GO|   DEL1/2|UOP01/GO|\n",
      "|13.0|  2017-01-01|   domingo|00:00:00| SC|280.0| 77,3|              CORUPA|  Ingestão de Álcool|Saída de leito ca...|   Com Vítimas Feridas|Plena Noite|Decrescente|                 Chuva|   Simples|     Não Informado|     Não|      1|     0|            1|             0|     0|        0|      1|       1|-26.44675249|-49.20166969|   SR-SC|   DEL8/6|UOP03/SC|\n",
      "|14.0|  2017-01-01|   domingo|00:40:00| GO| 60.0|  188|               GUAPO|Falta de Atenção ...|    Colisão traseira|   Com Vítimas Feridas|Plena Noite|Decrescente|               Nublado|     Dupla|              Reta|     Sim|      2|     0|            1|             0|     1|        0|      1|       2|-16.82489647|-49.53520775|   SR-GO|   DEL1/1|UOP02/GO|\n",
      "|15.0|  2017-01-01|   domingo|00:01:00| PB|104.0|  3,4|       NOVA FLORESTA|  Ingestão de Álcool|          Tombamento|    Com Vítimas Fatais|Plena Noite|Decrescente|             Céu Claro|   Simples|             Curva|     Sim|      1|     1|            0|             0|     0|        0|      0|       1|     -6.4622|    -36.1899|   SR-PB|  DEL14/2|UOP04/PB|\n",
      "|16.0|  2017-01-01|   domingo|00:30:00| TO|153.0|141,7|           ARAGUAINA|  Ingestão de Álcool|    Colisão traseira|   Com Vítimas Feridas|Plena Noite|Decrescente|              Ignorado|  Múltipla|              Reta|     Sim|      4|     0|            2|             0|     1|        1|      2|       2| -7.18668515|-48.22970957|   SR-TO| UOP04/TO|    null|\n",
      "|17.0|  2017-01-01|   domingo|01:45:00| RS|116.0| 34,9|             VACARIA|Defeito Mecânico ...|    Colisão traseira|   Com Vítimas Feridas|Plena Noite|Decrescente|             Céu Claro|   Simples|              Reta|     Não|      6|     0|            4|             0|     2|        0|      4|       2| -28.5071196|  -50.941176|   SR-RS|   DEL9/5|UOP03/RS|\n",
      "|18.0|  2017-01-01|   domingo|01:40:00| RS|290.0|  722|          URUGUAIANA|    Animais na Pista|Atropelamento de ...|   Com Vítimas Feridas|Plena Noite|  Crescente|             Céu Claro|   Simples|              Reta|     Sim|      2|     0|            2|             0|     0|        0|      2|       1|-29.75605083|-57.06461906|   SR-RS|  DEL9/13|UOP01/RS|\n",
      "|19.0|  2017-01-01|   domingo|00:30:00| PE|408.0|   51|      NAZARE DA MATA|Desobediência às ...|     Colisão frontal|    Com Vítimas Fatais|Plena Noite|Decrescente|               Nublado|   Simples|              Reta|     Não|      3|     1|            0|             1|     0|        1|      1|       2| -7.73818698|-35.23465097|   SR-PE|  DEL11/1|UOP01/PE|\n",
      "|20.0|  2017-01-01|   domingo|01:00:00| PR|376.0|  636|      TIJUCAS DO SUL|Velocidade Incomp...|Saída de leito ca...|    Com Vítimas Fatais|Plena Noite|  Crescente|        Garoa/Chuvisco|     Dupla|             Curva|     Não|      2|     1|            0|             0|     1|        0|      0|       2|     -25.754|    -49.1266|   SR-PR|   DEL7/1|UOP08/PR|\n",
      "|21.0|  2017-01-01|   domingo|00:00:00| PI|316.0| 41,8|      LAGOA DO PIAUI|Velocidade Incomp...|Saída de leito ca...|    Com Vítimas Fatais|Plena Noite|Decrescente|               Nublado|   Simples|             Curva|     Não|      4|     1|            0|             1|     0|        2|      1|       1| -5.43086608| -42.6358987|   SR-PI|  DEL17/1|UOP02/PI|\n",
      "|22.0|  2017-01-01|   domingo|01:15:00| CE| 20.0|423,6|           FORTALEZA|    Animais na Pista|          Tombamento|   Com Vítimas Feridas|Plena Noite|  Crescente|             Céu Claro|   Simples|              Reta|     Não|      2|     0|            2|             0|     0|        0|      2|       1|  -3.7318616| -38.5266704|   SR-CE|  DEL16/1|UOP02/CE|\n",
      "|23.0|  2017-01-01|   domingo|01:38:00| SC|101.0|189,6|             BIGUACU|Velocidade Incomp...|Saída de leito ca...|   Com Vítimas Feridas|Plena Noite|Decrescente|                 Chuva|     Dupla|     Não Informado|     Não|      1|     0|            1|             0|     0|        0|      1|       1|-27.46422502|-48.64184184|   SR-SC|   DEL8/1|UOP01/SC|\n",
      "|24.0|  2017-01-01|   domingo|02:10:00| SC|101.0|   45|           JOINVILLE|  Ingestão de Álcool|    Colisão traseira|   Com Vítimas Feridas|Plena Noite|Decrescente|                 Chuva|     Dupla|             Curva|     Sim|      2|     0|            1|             0|     1|        0|      1|       2|    -26.3487|    -48.8574|   SR-SC|   DEL8/3|UOP01/SC|\n",
      "|25.0|  2017-01-01|   domingo|00:30:00| MS|262.0| 34,5|         TRES LAGOAS|    Animais na Pista|Atropelamento de ...|           Sem Vítimas|Plena Noite|Decrescente|             Céu Claro|   Simples|              Reta|     Não|      1|     0|            0|             0|     1|        0|      0|       1|-20.78594796|-51.92953072|   SR-MS|   DEL3/7|UOP01/MS|\n",
      "|26.0|  2017-01-01|   domingo|00:30:00| GO| 20.0| 21,5|             FORMOSA|  Ingestão de Álcool|Saída de leito ca...|           Sem Vítimas|Plena Noite|Decrescente|             Céu Claro|   Simples|Interseção de vias|     Não|      1|     0|            0|             0|     1|        0|      0|       1|-15.54699656|-47.16523376|   SR-DF| UOP04/DF|    null|\n",
      "|28.0|  2017-01-01|   domingo|01:25:00| MS|163.0|  488|        CAMPO GRANDE|Restrição de Visi...|Saída de leito ca...|   Com Vítimas Feridas|Plena Noite|Decrescente|             Céu Claro|   Simples|              Reta|     Sim|      1|     0|            1|             0|     0|        0|      1|       1|    -20.4311|    -54.5442|   SR-MS|   DEL3/1|UOP02/MS|\n",
      "|30.0|  2017-01-01|   domingo|02:20:00| SP|153.0| 63,3|SAO JOSE DO RIO P...|  Ingestão de Álcool|    Colisão traseira|           Sem Vítimas|Plena Noite|Decrescente|             Céu Claro|     Dupla|             Curva|     Sim|      5|     0|            0|             0|     5|        0|      0|       2|-20.82376296|-49.35789764|   SR-SP|   DEL6/9|UOP01/SP|\n",
      "+----+------------+----------+--------+---+-----+-----+--------------------+--------------------+--------------------+----------------------+-----------+-----------+----------------------+----------+------------------+--------+-------+------+-------------+--------------+------+---------+-------+--------+------------+------------+--------+---------+--------+\n",
      "only showing top 20 rows\n",
      "\n"
     ]
    }
   ],
   "source": [
    "df = spark.read.options(header=True).csv(\"gs://acidentes_terrestres/dados_brutos/Acidentes por ocorrencia/\")\n",
    "df.show()"
   ]
  },
  {
   "cell_type": "code",
   "execution_count": 5,
   "id": "9ff5941a-a603-48fa-aba9-34a0df8aa8a4",
   "metadata": {},
   "outputs": [
    {
     "data": {
      "text/plain": [
       "708586"
      ]
     },
     "execution_count": 5,
     "metadata": {},
     "output_type": "execute_result"
    }
   ],
   "source": [
    "df.count()"
   ]
  },
  {
   "cell_type": "code",
   "execution_count": null,
   "id": "0a2e247f-edd6-426a-beef-e6cf6bb9958a",
   "metadata": {},
   "outputs": [],
   "source": []
  }
 ],
 "metadata": {
  "kernelspec": {
   "display_name": "Python 3",
   "language": "python",
   "name": "python3"
  },
  "language_info": {
   "codemirror_mode": {
    "name": "ipython",
    "version": 3
   },
   "file_extension": ".py",
   "mimetype": "text/x-python",
   "name": "python",
   "nbconvert_exporter": "python",
   "pygments_lexer": "ipython3",
   "version": "3.9.7"
  }
 },
 "nbformat": 4,
 "nbformat_minor": 5
}
