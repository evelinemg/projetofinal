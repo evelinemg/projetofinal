{
 "cells": [
  {
   "cell_type": "code",
   "execution_count": 3,
   "id": "ab0422b9-4094-4baf-a41a-5288d7985383",
   "metadata": {},
   "outputs": [],
   "source": [
    "from google.cloud import storage\n",
    "import pandas as pd\n",
    "import os\n",
    "os.environ[\"GOOGLE_APPLICATION_CREDENTIALS\"]=\"sca-at-b5179177a346.json\""
   ]
  },
  {
   "cell_type": "code",
   "execution_count": 4,
   "id": "61be488d-d551-4720-879b-4cfef06a5ea3",
   "metadata": {},
   "outputs": [],
   "source": [
    "df=pd.read_csv('gs://acidentes_terrestres/dados_brutos/Acidentes por ocorrencia/acidentes_ocorrencias - geral.csv')"
   ]
  },
  {
   "cell_type": "code",
   "execution_count": null,
   "id": "2f42481e-08ef-41a6-a3df-a3adf24fcc8c",
   "metadata": {},
   "outputs": [],
   "source": []
  }
 ],
 "metadata": {
  "kernelspec": {
   "display_name": "Python 3",
   "language": "python",
   "name": "python3"
  },
  "language_info": {
   "codemirror_mode": {
    "name": "ipython",
    "version": 3
   },
   "file_extension": ".py",
   "mimetype": "text/x-python",
   "name": "python",
   "nbconvert_exporter": "python",
   "pygments_lexer": "ipython3",
   "version": "3.9.7"
  }
 },
 "nbformat": 4,
 "nbformat_minor": 5
}
